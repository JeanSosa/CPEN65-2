{
  "nbformat": 4,
  "nbformat_minor": 0,
  "metadata": {
    "colab": {
      "provenance": [],
      "collapsed_sections": [],
      "authorship_tag": "ABX9TyNTj2xAeVPVpQKxIh76Pr2c",
      "include_colab_link": true
    },
    "kernelspec": {
      "name": "python3",
      "display_name": "Python 3"
    },
    "language_info": {
      "name": "python"
    }
  },
  "cells": [
    {
      "cell_type": "markdown",
      "metadata": {
        "id": "view-in-github",
        "colab_type": "text"
      },
      "source": [
        "<a href=\"https://colab.research.google.com/github/JeanSosa/CPEN65-2/blob/main/Array.ipynb\" target=\"_parent\"><img src=\"https://colab.research.google.com/assets/colab-badge.svg\" alt=\"Open In Colab\"/></a>"
      ]
    },
    {
      "cell_type": "code",
      "execution_count": null,
      "metadata": {
        "colab": {
          "base_uri": "https://localhost:8080/"
        },
        "id": "vofbKiR0Hin2",
        "outputId": "abcefd5e-26ad-450b-ee2a-005a1aa235cc"
      },
      "outputs": [
        {
          "output_type": "stream",
          "name": "stdout",
          "text": [
            "Array[0] = cat\n",
            "Array[1] = dog\n"
          ]
        }
      ],
      "source": [
        "animals = [\"cat\",\"dog\",\"cow\"]\n",
        "x = animals[0]\n",
        "y = animals[1]\n",
        "z = animals[2]\n",
        "print(\"Array[0] =\",x)\n",
        "print(\"Array[1] =\",y)"
      ]
    },
    {
      "cell_type": "code",
      "source": [
        "animals = [\"cat\",\"dog\",\"cow\"]\n",
        "animals[0] = \"monkey\"\n",
        "x = animals[0]\n",
        "print(\"Array[0] = \",x)\n",
        "print(animals)"
      ],
      "metadata": {
        "colab": {
          "base_uri": "https://localhost:8080/"
        },
        "id": "sTRUqn1RIsW6",
        "outputId": "63c84024-4bd3-4c79-96f2-884c2ffa918c"
      },
      "execution_count": null,
      "outputs": [
        {
          "output_type": "stream",
          "name": "stdout",
          "text": [
            "Array[0] =  monkey\n",
            "['monkey', 'dog', 'cow']\n"
          ]
        }
      ]
    },
    {
      "cell_type": "code",
      "source": [
        "animals = [\"monkey\",\"cat\",\"dog\",\"fish\"]\n",
        "v = len(animals)\n",
        "print(v)"
      ],
      "metadata": {
        "colab": {
          "base_uri": "https://localhost:8080/"
        },
        "id": "hFf9syN1IwSp",
        "outputId": "3e1a3e55-510e-4348-f71e-8f2d52637a6e"
      },
      "execution_count": null,
      "outputs": [
        {
          "output_type": "stream",
          "name": "stdout",
          "text": [
            "4\n"
          ]
        }
      ]
    },
    {
      "cell_type": "code",
      "source": [
        "animals = [\"monkey\",\"cat\",\"dog\",\"fish\", \"cow\"]\n",
        "for x in animals:\n",
        "  print(x)"
      ],
      "metadata": {
        "colab": {
          "base_uri": "https://localhost:8080/"
        },
        "id": "uSbcAibII0H5",
        "outputId": "6a442a54-477b-4540-c005-66aaa9a3fc67"
      },
      "execution_count": null,
      "outputs": [
        {
          "output_type": "stream",
          "name": "stdout",
          "text": [
            "monkey\n",
            "cat\n",
            "dog\n",
            "fish\n",
            "cow\n"
          ]
        }
      ]
    },
    {
      "cell_type": "code",
      "source": [
        "animals = [\"monkey\",\"cat\",\"dog\",\"fish\", \"cow\"]\n",
        "for index , val in enumerate(animals):\n",
        "  print(index,val)"
      ],
      "metadata": {
        "colab": {
          "base_uri": "https://localhost:8080/"
        },
        "id": "SWZdwI5nI4so",
        "outputId": "3bf284aa-dd32-4d06-cc21-64cd0e6ec1dd"
      },
      "execution_count": null,
      "outputs": [
        {
          "output_type": "stream",
          "name": "stdout",
          "text": [
            "0 monkey\n",
            "1 cat\n",
            "2 dog\n",
            "3 fish\n",
            "4 cow\n"
          ]
        }
      ]
    },
    {
      "cell_type": "code",
      "source": [
        "animals = [\"monkey\",\"cat\",\"dog\",\"fish\", \"cow\"]\n",
        "animals.append(\"lion\")\n",
        "print(animals)"
      ],
      "metadata": {
        "colab": {
          "base_uri": "https://localhost:8080/"
        },
        "id": "GiKJnIFgJIPx",
        "outputId": "57925ea7-fb69-444f-9fde-67412bf7a7c3"
      },
      "execution_count": null,
      "outputs": [
        {
          "output_type": "stream",
          "name": "stdout",
          "text": [
            "['monkey', 'cat', 'dog', 'fish', 'cow', 'lion']\n"
          ]
        }
      ]
    },
    {
      "cell_type": "code",
      "source": [
        "numbers = [1,2,3,4,5,6,7,8,9,10,]\n",
        "numbers.insert(2,12)\n",
        "print(numbers)"
      ],
      "metadata": {
        "colab": {
          "base_uri": "https://localhost:8080/"
        },
        "id": "atDNfWTdJuII",
        "outputId": "50879190-6f56-44d3-d02b-b7e6c5fed92c"
      },
      "execution_count": null,
      "outputs": [
        {
          "output_type": "stream",
          "name": "stdout",
          "text": [
            "[1, 2, 12, 3, 4, 5, 6, 7, 8, 9, 10]\n"
          ]
        }
      ]
    },
    {
      "cell_type": "code",
      "source": [
        "animals = [\"monkey\",\"cat\",\"dog\",\"fish\", \"cow\"]\n",
        "animals.pop(3)\n",
        "print(animals)"
      ],
      "metadata": {
        "colab": {
          "base_uri": "https://localhost:8080/"
        },
        "id": "I3jcfBO1JzhH",
        "outputId": "266ff310-1965-4fb2-8121-8fc14cc95c3c"
      },
      "execution_count": null,
      "outputs": [
        {
          "output_type": "stream",
          "name": "stdout",
          "text": [
            "['monkey', 'cat', 'dog', 'cow']\n"
          ]
        }
      ]
    }
  ]
}