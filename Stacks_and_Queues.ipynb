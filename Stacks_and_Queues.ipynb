{
  "nbformat": 4,
  "nbformat_minor": 0,
  "metadata": {
    "colab": {
      "provenance": [],
      "authorship_tag": "ABX9TyODT+68vmyZUIMc2Cy26sv9",
      "include_colab_link": true
    },
    "kernelspec": {
      "name": "python3",
      "display_name": "Python 3"
    },
    "language_info": {
      "name": "python"
    }
  },
  "cells": [
    {
      "cell_type": "markdown",
      "metadata": {
        "id": "view-in-github",
        "colab_type": "text"
      },
      "source": [
        "<a href=\"https://colab.research.google.com/github/JeanSosa/CPEN65-2/blob/main/Stacks_and_Queues.ipynb\" target=\"_parent\"><img src=\"https://colab.research.google.com/assets/colab-badge.svg\" alt=\"Open In Colab\"/></a>"
      ]
    },
    {
      "cell_type": "markdown",
      "source": [
        "#Stack"
      ],
      "metadata": {
        "id": "tjq2DrSUB3q7"
      }
    },
    {
      "cell_type": "code",
      "execution_count": null,
      "metadata": {
        "colab": {
          "base_uri": "https://localhost:8080/"
        },
        "id": "6Y_heJzxByex",
        "outputId": "1c7e376c-cce0-4675-fb8e-5eb481a1f43c"
      },
      "outputs": [
        {
          "output_type": "stream",
          "name": "stdout",
          "text": [
            "[1, 2, 3]\n",
            "[1, 2]\n",
            "[1]\n",
            "[]\n"
          ]
        }
      ],
      "source": [
        "class Stack:\n",
        "  def __init__(self):\n",
        "    self.stack = []\n",
        "\n",
        "  def push(self,dataval):\n",
        "    if dataval not in self.stack:\n",
        "      self.stack.append(dataval)\n",
        "    else:\n",
        "      return False\n",
        "  def pop(self):\n",
        "    if len(self.stack)<=0:\n",
        "      return \"Stacl is empty\"\n",
        "    else:\n",
        "      return self.stack.pop()\n",
        "\n",
        "AStack = Stack()\n",
        "AStack.push(1)\n",
        "AStack.push(2)\n",
        "AStack.push(3)\n",
        "\n",
        "print(AStack.stack)\n",
        "\n",
        "AStack.pop()\n",
        "print(AStack.stack)\n",
        "AStack.pop()\n",
        "print(AStack.stack)\n",
        "AStack.pop()\n",
        "print(AStack.stack)\n",
        "\n"
      ]
    },
    {
      "cell_type": "markdown",
      "source": [
        "#Application 1\n",
        "\n",
        "#Implement the above program by Queues Data Structure (enqueue and dequeue/FIFO principle)"
      ],
      "metadata": {
        "id": "oou19Vv3eWBq"
      }
    },
    {
      "cell_type": "code",
      "source": [
        "class Queue:\n",
        "  def __init__(self):\n",
        "    self.queue = []\n",
        "\n",
        "  def Enqueue(self,dataval):\n",
        "    if dataval not in self.queue:\n",
        "      self.queue.append(dataval)\n",
        "    else:\n",
        "      return False\n",
        "  def Dequeue(self):\n",
        "    if len(self.queue)<=0:\n",
        "      return \"Queue is empty\"\n",
        "    else:\n",
        "      return self.queue.pop(0)\n",
        "\n",
        "Aqueue = Queue()\n",
        "Aqueue.Enqueue(16)\n",
        "Aqueue.Enqueue(17)\n",
        "Aqueue.Enqueue(18)\n",
        "\n",
        "print(Aqueue.queue)\n",
        "print(\"The 1st value to dequeue is\",Aqueue.Dequeue())\n",
        "print(Aqueue.queue)\n",
        "print(\"The 2nd value to dequeue is\",Aqueue.Dequeue())\n",
        "print(Aqueue.queue)\n",
        "print(\"The 2nd value to dequeue is\",Aqueue.Dequeue())\n",
        "print(Aqueue.queue)"
      ],
      "metadata": {
        "colab": {
          "base_uri": "https://localhost:8080/"
        },
        "id": "63KVlyG0cViU",
        "outputId": "910ec452-7941-4b9d-ae2c-ef3e7e1039fd"
      },
      "execution_count": 5,
      "outputs": [
        {
          "output_type": "stream",
          "name": "stdout",
          "text": [
            "[16, 17, 18]\n",
            "The 1st value to dequeue is 16\n",
            "[17, 18]\n",
            "The 2nd value to dequeue is 17\n",
            "[18]\n",
            "The 2nd value to dequeue is 18\n",
            "[]\n"
          ]
        }
      ]
    }
  ]
}