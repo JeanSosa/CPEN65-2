{
  "nbformat": 4,
  "nbformat_minor": 0,
  "metadata": {
    "colab": {
      "provenance": [],
      "authorship_tag": "ABX9TyO+qakjZe7ERscCUvgJtHB4",
      "include_colab_link": true
    },
    "kernelspec": {
      "name": "python3",
      "display_name": "Python 3"
    },
    "language_info": {
      "name": "python"
    }
  },
  "cells": [
    {
      "cell_type": "markdown",
      "metadata": {
        "id": "view-in-github",
        "colab_type": "text"
      },
      "source": [
        "<a href=\"https://colab.research.google.com/github/JeanSosa/CPEN65-2/blob/main/Activity2.ipynb\" target=\"_parent\"><img src=\"https://colab.research.google.com/assets/colab-badge.svg\" alt=\"Open In Colab\"/></a>"
      ]
    },
    {
      "cell_type": "code",
      "execution_count": 4,
      "metadata": {
        "colab": {
          "base_uri": "https://localhost:8080/"
        },
        "id": "Z-vybA1Hry-F",
        "outputId": "8a8bb484-22e2-4e6e-863b-eac26443f86b"
      },
      "outputs": [
        {
          "output_type": "stream",
          "name": "stdout",
          "text": [
            "The characters of my name in an array are: ['J', 'e', 'a', 'n', ' ', 'E', 'x', 'e', 'q', 'u', 'i', 'e', 'l', ' ', 'D', '.', ' ', 'S', 'o', 's', 'a']\n",
            "\n",
            "\n",
            "The reverse characters of my name in an array are: ['a', 's', 'o', 'S', ' ', '.', 'D', ' ', 'l', 'e', 'i', 'u', 'q', 'e', 'x', 'E', ' ', 'n', 'a', 'e', 'J']\n"
          ]
        }
      ],
      "source": [
        "data = [\"J\", \"e\", \"a\", \"n\", \" \", \"E\", \"x\", \"e\", \"q\", \"u\", \"i\", \"e\", \"l\", \" \", \"D\", \".\", \" \", \"S\", \"o\", \"s\", \"a\"]\n",
        "\n",
        "name = []\n",
        "for x in data:\n",
        "  name.append(x)\n",
        "print(\"The characters of my name in an array are:\", name)\n",
        "\n",
        "print(\"\\n\")\n",
        "\n",
        "name.reverse()\n",
        "print(\"The reverse characters of my name in an array are:\", name)"
      ]
    }
  ]
}