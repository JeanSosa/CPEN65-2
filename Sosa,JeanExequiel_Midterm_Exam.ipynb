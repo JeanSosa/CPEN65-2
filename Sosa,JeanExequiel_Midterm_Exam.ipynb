{
  "nbformat": 4,
  "nbformat_minor": 0,
  "metadata": {
    "colab": {
      "provenance": [],
      "authorship_tag": "ABX9TyPufaSWBfG+OdagfU6bttGQ",
      "include_colab_link": true
    },
    "kernelspec": {
      "name": "python3",
      "display_name": "Python 3"
    },
    "language_info": {
      "name": "python"
    }
  },
  "cells": [
    {
      "cell_type": "markdown",
      "metadata": {
        "id": "view-in-github",
        "colab_type": "text"
      },
      "source": [
        "<a href=\"https://colab.research.google.com/github/JeanSosa/CPEN65-2/blob/main/Sosa%2CJeanExequiel_Midterm_Exam.ipynb\" target=\"_parent\"><img src=\"https://colab.research.google.com/assets/colab-badge.svg\" alt=\"Open In Colab\"/></a>"
      ]
    },
    {
      "cell_type": "code",
      "execution_count": 49,
      "metadata": {
        "colab": {
          "base_uri": "https://localhost:8080/"
        },
        "id": "cKfHxd4J-Qjq",
        "outputId": "8e103974-bb36-462a-ab65-9a82ee4d1b1a"
      },
      "outputs": [
        {
          "output_type": "stream",
          "name": "stdout",
          "text": [
            "array('i', [1, 2, 3, 4, 5, 6, 7, 8, 9, 10])\n",
            "Enter 1st index: 0\n",
            "Enter 2nd index: 5\n",
            "Enter 3rd index: 9\n",
            "\n",
            "The value of 0 index: 1\n",
            "The value of 5 index: 6\n",
            "The value of 9 index: 10 \n",
            "\n",
            "The sum of value of the indexes is  17\n"
          ]
        }
      ],
      "source": [
        "import array as arr\n",
        "\n",
        "arr.typecodes\n",
        "arr.array('i',[1,2,3,4,5,6,7,8,9,10])\n",
        "print(a)\n",
        "\n",
        "first = int((input(\"Enter 1st index: \")))\n",
        "second = int((input(\"Enter 2nd index: \")))\n",
        "third = int((input(\"Enter 3rd index: \")))\n",
        "\n",
        "frst = a[first]\n",
        "scnd = a[second]\n",
        "thrd = a[third]\n",
        "\n",
        "print(\"\\n\"\"The value of\", first, \"index:\", frst )\n",
        "print(\"The value of\",second,\"index:\", scnd)\n",
        "print(\"The value of\",third,\"index:\", thrd,\"\\n\")\n",
        "\n",
        "sum = (frst + scnd + thrd)\n",
        "print(\"The sum of value of the indexes is \",sum)"
      ]
    },
    {
      "cell_type": "code",
      "source": [
        "numbers = [1,2,3,4,5,6,7,8,9,10]\n",
        "item = int(input('Input new item:'))\n",
        "\n",
        "print(\"Original Array: \", numbers)\n",
        "numbers.append(item)\n",
        "print(\"Present Array: \", numbers)"
      ],
      "metadata": {
        "colab": {
          "base_uri": "https://localhost:8080/"
        },
        "id": "ktTU6T5LCtCI",
        "outputId": "47355efd-9ffa-42cd-d118-345d1858e184"
      },
      "execution_count": null,
      "outputs": [
        {
          "output_type": "stream",
          "name": "stdout",
          "text": [
            "Input new item:11\n",
            "Original Array:  [1, 2, 3, 4, 5, 6, 7, 8, 9, 10]\n",
            "Present Array:  [1, 2, 3, 4, 5, 6, 7, 8, 9, 10, 11]\n"
          ]
        }
      ]
    },
    {
      "cell_type": "code",
      "source": [
        "numbers = [1,2,3,4,5,6,7,8,9,10]\n",
        "item = int(input('Input new item:'))\n",
        "\n",
        "print('Original Array: ', numbers)\n",
        "numbers.insert(1,item)\n",
        "print('Present Array: ', numbers)"
      ],
      "metadata": {
        "colab": {
          "base_uri": "https://localhost:8080/"
        },
        "id": "kjt-vXNVKIBC",
        "outputId": "bfa38a43-3c4f-4af5-8f53-5c48826108aa"
      },
      "execution_count": null,
      "outputs": [
        {
          "output_type": "stream",
          "name": "stdout",
          "text": [
            "Input new item:11\n",
            "Original Array:  [1, 2, 3, 4, 5, 6, 7, 8, 9, 10]\n",
            "Present Array:  [1, 11, 2, 3, 4, 5, 6, 7, 8, 9, 10]\n"
          ]
        }
      ]
    },
    {
      "cell_type": "code",
      "source": [
        "numbers = [5, 4, 3, 2, 1]\n",
        "print('Original Array: ', numbers)\n",
        "\n",
        "numbers.reverse()\n",
        "print('Present Array: ', numbers)"
      ],
      "metadata": {
        "colab": {
          "base_uri": "https://localhost:8080/"
        },
        "id": "l1WmFWMmOrMj",
        "outputId": "d5c45f0b-5433-456f-ce34-1c2690f2cb3d"
      },
      "execution_count": null,
      "outputs": [
        {
          "output_type": "stream",
          "name": "stdout",
          "text": [
            "Original Array:  [5, 4, 3, 2, 1]\n",
            "Present Array:  [1, 2, 3, 4, 5]\n"
          ]
        }
      ]
    },
    {
      "cell_type": "code",
      "source": [
        "numbers = [5, 4, 3, 2, 1]\n",
        "print('Array:', numbers)\n",
        "l = len(numbers)\n",
        "print('The length of ', numbers, 'is ', l)"
      ],
      "metadata": {
        "colab": {
          "base_uri": "https://localhost:8080/"
        },
        "id": "MZHurw-rQSHp",
        "outputId": "abd37de2-5bb2-44f7-fe70-9c8d5ecebfb9"
      },
      "execution_count": null,
      "outputs": [
        {
          "output_type": "stream",
          "name": "stdout",
          "text": [
            "Array: [5, 4, 3, 2, 1]\n",
            "The length of  [5, 4, 3, 2, 1] is  5\n"
          ]
        }
      ]
    }
  ]
}