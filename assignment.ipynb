{
  "nbformat": 4,
  "nbformat_minor": 0,
  "metadata": {
    "colab": {
      "provenance": [],
      "collapsed_sections": [],
      "authorship_tag": "ABX9TyO5equ4oaQcb0hJmSQ9ykOu",
      "include_colab_link": true
    },
    "kernelspec": {
      "name": "python3",
      "display_name": "Python 3"
    },
    "language_info": {
      "name": "python"
    }
  },
  "cells": [
    {
      "cell_type": "markdown",
      "metadata": {
        "id": "view-in-github",
        "colab_type": "text"
      },
      "source": [
        "<a href=\"https://colab.research.google.com/github/JeanSosa/CPEN65-2/blob/main/assignment.ipynb\" target=\"_parent\"><img src=\"https://colab.research.google.com/assets/colab-badge.svg\" alt=\"Open In Colab\"/></a>"
      ]
    },
    {
      "cell_type": "code",
      "execution_count": 1,
      "metadata": {
        "colab": {
          "base_uri": "https://localhost:8080/"
        },
        "id": "VxQ5bKt1a11Q",
        "outputId": "d8bcbfac-9e10-4002-b760-0053503ff5cd"
      },
      "outputs": [
        {
          "output_type": "stream",
          "name": "stdout",
          "text": [
            "Enter the value of radius:4\n",
            "The area of the circle is:  50.26548245743669\n"
          ]
        }
      ],
      "source": [
        "import math\n",
        "#Create a Python program that computes the area of a circle\n",
        "\n",
        "def area_of_circle(radius):\n",
        "    area_of_circle = 3.141592653589793238 * radius * radius\n",
        "    return area_of_circle\n",
        "\n",
        "\n",
        "radius = int(input(\"Enter the value of radius:\"))\n",
        "print(\"The area of the circle is: \", area_of_circle(radius))\n"
      ]
    }
  ]
}